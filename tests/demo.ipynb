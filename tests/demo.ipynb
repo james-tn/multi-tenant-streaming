{
 "cells": [
  {
   "cell_type": "code",
   "execution_count": 67,
   "metadata": {},
   "outputs": [
    {
     "data": {
      "text/plain": [
       "'{\"tenant\": \"tenant1\", \"data\": [{\"ORDERNUMBER\": 10266, \"QUANTITYORDERED\": 47, \"PRICEEACH\": 62.45, \"ORDERLINENUMBER\": 13, \"SALES\": 2935.15, \"ORDERDATE\": \"7/6/2004 0:00\", \"STATUS\": \"Shipped\", \"QTR_ID\": 3, \"MONTH_ID\": 7, \"YEAR_ID\": 2004, \"PRODUCTLINE\": \"Classic Cars\", \"MSRP\": 61, \"PRODUCTCODE\": \"S24_3371\", \"CUSTOMERNAME\": \"L\\'ordine Souveniers\", \"PHONE\": \"0522-556555\", \"ADDRESSLINE1\": \"Strada Provinciale 124\", \"ADDRESSLINE2\": NaN, \"CITY\": \"Reggio Emilia\", \"STATE\": NaN, \"POSTALCODE\": \"42100\", \"COUNTRY\": \"Italy\", \"TERRITORY\": \"EMEA\", \"CONTACTLASTNAME\": \"Moroni\", \"CONTACTFIRSTNAME\": \"Maurizio\", \"DEALSIZE\": \"Small\"}, {\"ORDERNUMBER\": 10332, \"QUANTITYORDERED\": 38, \"PRICEEACH\": 84.25, \"ORDERLINENUMBER\": 9, \"SALES\": 3201.5, \"ORDERDATE\": \"11/17/2004 0:00\", \"STATUS\": \"Shipped\", \"QTR_ID\": 4, \"MONTH_ID\": 11, \"YEAR_ID\": 2004, \"PRODUCTLINE\": \"Vintage Cars\", \"MSRP\": 60, \"PRODUCTCODE\": \"S18_2248\", \"CUSTOMERNAME\": \"AV Stores, Co.\", \"PHONE\": \"(171) 555-1555\", \"ADDRESSLINE1\": \"Fauntleroy Circus\", \"ADDRESSLINE2\": NaN, \"CITY\": \"Manchester\", \"STATE\": NaN, \"POSTALCODE\": \"EC2 5NT\", \"COUNTRY\": \"UK\", \"TERRITORY\": \"EMEA\", \"CONTACTLASTNAME\": \"Ashworth\", \"CONTACTFIRSTNAME\": \"Victoria\", \"DEALSIZE\": \"Medium\"}, {\"ORDERNUMBER\": 10339, \"QUANTITYORDERED\": 55, \"PRICEEACH\": 100.0, \"ORDERLINENUMBER\": 13, \"SALES\": 10758.0, \"ORDERDATE\": \"11/23/2004 0:00\", \"STATUS\": \"Shipped\", \"QTR_ID\": 4, \"MONTH_ID\": 11, \"YEAR_ID\": 2004, \"PRODUCTLINE\": \"Vintage Cars\", \"MSRP\": 88, \"PRODUCTCODE\": \"S24_3151\", \"CUSTOMERNAME\": \"Tokyo Collectables, Ltd\", \"PHONE\": \"+81 3 3584 0555\", \"ADDRESSLINE1\": \"2-2-8 Roppongi\", \"ADDRESSLINE2\": NaN, \"CITY\": \"Minato-ku\", \"STATE\": \"Tokyo\", \"POSTALCODE\": \"106-0032\", \"COUNTRY\": \"Japan\", \"TERRITORY\": \"Japan\", \"CONTACTLASTNAME\": \"Shimamura\", \"CONTACTFIRSTNAME\": \"Akiko\", \"DEALSIZE\": \"Large\"}, {\"ORDERNUMBER\": 10151, \"QUANTITYORDERED\": 39, \"PRICEEACH\": 69.28, \"ORDERLINENUMBER\": 9, \"SALES\": 2701.92, \"ORDERDATE\": \"9/21/2003 0:00\", \"STATUS\": \"Shipped\", \"QTR_ID\": 3, \"MONTH_ID\": 9, \"YEAR_ID\": 2003, \"PRODUCTLINE\": \"Trucks and Buses\", \"MSRP\": 60, \"PRODUCTCODE\": \"S18_2432\", \"CUSTOMERNAME\": \"Oulu Toy Supplies, Inc.\", \"PHONE\": \"981-443655\", \"ADDRESSLINE1\": \"Torikatu 38\", \"ADDRESSLINE2\": NaN, \"CITY\": \"Oulu\", \"STATE\": NaN, \"POSTALCODE\": \"90110\", \"COUNTRY\": \"Finland\", \"TERRITORY\": \"EMEA\", \"CONTACTLASTNAME\": \"Koskitalo\", \"CONTACTFIRSTNAME\": \"Pirkko\", \"DEALSIZE\": \"Small\"}, {\"ORDERNUMBER\": 10129, \"QUANTITYORDERED\": 50, \"PRICEEACH\": 77.99, \"ORDERLINENUMBER\": 1, \"SALES\": 3899.5, \"ORDERDATE\": \"6/12/2003 0:00\", \"STATUS\": \"Shipped\", \"QTR_ID\": 2, \"MONTH_ID\": 6, \"YEAR_ID\": 2003, \"PRODUCTLINE\": \"Vintage Cars\", \"MSRP\": 83, \"PRODUCTCODE\": \"S24_3816\", \"CUSTOMERNAME\": \"Stylish Desk Decors, Co.\", \"PHONE\": \"(171) 555-0297\", \"ADDRESSLINE1\": \"35 King George\", \"ADDRESSLINE2\": NaN, \"CITY\": \"London\", \"STATE\": NaN, \"POSTALCODE\": \"WX3 6FW\", \"COUNTRY\": \"UK\", \"TERRITORY\": \"EMEA\", \"CONTACTLASTNAME\": \"Brown\", \"CONTACTFIRSTNAME\": \"Ann\", \"DEALSIZE\": \"Medium\"}, {\"ORDERNUMBER\": 10106, \"QUANTITYORDERED\": 28, \"PRICEEACH\": 88.63, \"ORDERLINENUMBER\": 4, \"SALES\": 2481.64, \"ORDERDATE\": \"2/17/2003 0:00\", \"STATUS\": \"Shipped\", \"QTR_ID\": 1, \"MONTH_ID\": 2, \"YEAR_ID\": 2003, \"PRODUCTLINE\": \"Planes\", \"MSRP\": 109, \"PRODUCTCODE\": \"S24_1785\", \"CUSTOMERNAME\": \"Rovelli Gifts\", \"PHONE\": \"035-640555\", \"ADDRESSLINE1\": \"Via Ludovico il Moro 22\", \"ADDRESSLINE2\": NaN, \"CITY\": \"Bergamo\", \"STATE\": NaN, \"POSTALCODE\": \"24100\", \"COUNTRY\": \"Italy\", \"TERRITORY\": \"EMEA\", \"CONTACTLASTNAME\": \"Rovelli\", \"CONTACTFIRSTNAME\": \"Giovanni\", \"DEALSIZE\": \"Small\"}, {\"ORDERNUMBER\": 10192, \"QUANTITYORDERED\": 46, \"PRICEEACH\": 100.0, \"ORDERLINENUMBER\": 5, \"SALES\": 5566.0, \"ORDERDATE\": \"11/20/2003 0:00\", \"STATUS\": \"Shipped\", \"QTR_ID\": 4, \"MONTH_ID\": 11, \"YEAR_ID\": 2003, \"PRODUCTLINE\": \"Classic Cars\", \"MSRP\": 107, \"PRODUCTCODE\": \"S24_3432\", \"CUSTOMERNAME\": \"Online Diecast Creations Co.\", \"PHONE\": \"6035558647\", \"ADDRESSLINE1\": \"2304 Long Airport Avenue\", \"ADDRESSLINE2\": NaN, \"CITY\": \"Nashua\", \"STATE\": \"NH\", \"POSTALCODE\": \"62005\", \"COUNTRY\": \"USA\", \"TERRITORY\": NaN, \"CONTACTLASTNAME\": \"Young\", \"CONTACTFIRSTNAME\": \"Valarie\", \"DEALSIZE\": \"Medium\"}, {\"ORDERNUMBER\": 10247, \"QUANTITYORDERED\": 25, \"PRICEEACH\": 100.0, \"ORDERLINENUMBER\": 3, \"SALES\": 4381.25, \"ORDERDATE\": \"5/5/2004 0:00\", \"STATUS\": \"Shipped\", \"QTR_ID\": 2, \"MONTH_ID\": 5, \"YEAR_ID\": 2004, \"PRODUCTLINE\": \"Classic Cars\", \"MSRP\": 151, \"PRODUCTCODE\": \"S12_3148\", \"CUSTOMERNAME\": \"Suominen Souveniers\", \"PHONE\": \"+358 9 8045 555\", \"ADDRESSLINE1\": \"Software Engineering Center, SEC Oy\", \"ADDRESSLINE2\": NaN, \"CITY\": \"Espoo\", \"STATE\": NaN, \"POSTALCODE\": \"FIN-02271\", \"COUNTRY\": \"Finland\", \"TERRITORY\": \"EMEA\", \"CONTACTLASTNAME\": \"Suominen\", \"CONTACTFIRSTNAME\": \"Kalle\", \"DEALSIZE\": \"Medium\"}, {\"ORDERNUMBER\": 10140, \"QUANTITYORDERED\": 46, \"PRICEEACH\": 61.99, \"ORDERLINENUMBER\": 2, \"SALES\": 2851.54, \"ORDERDATE\": \"7/24/2003 0:00\", \"STATUS\": \"Shipped\", \"QTR_ID\": 3, \"MONTH_ID\": 7, \"YEAR_ID\": 2003, \"PRODUCTLINE\": \"Trucks and Buses\", \"MSRP\": 60, \"PRODUCTCODE\": \"S18_2432\", \"CUSTOMERNAME\": \"Technics Stores Inc.\", \"PHONE\": \"6505556809\", \"ADDRESSLINE1\": \"9408 Furth Circle\", \"ADDRESSLINE2\": NaN, \"CITY\": \"Burlingame\", \"STATE\": \"CA\", \"POSTALCODE\": \"94217\", \"COUNTRY\": \"USA\", \"TERRITORY\": NaN, \"CONTACTLASTNAME\": \"Hirano\", \"CONTACTFIRSTNAME\": \"Juri\", \"DEALSIZE\": \"Small\"}, {\"ORDERNUMBER\": 10324, \"QUANTITYORDERED\": 27, \"PRICEEACH\": 54.33, \"ORDERLINENUMBER\": 1, \"SALES\": 1466.91, \"ORDERDATE\": \"11/5/2004 0:00\", \"STATUS\": \"Shipped\", \"QTR_ID\": 4, \"MONTH_ID\": 11, \"YEAR_ID\": 2004, \"PRODUCTLINE\": \"Classic Cars\", \"MSRP\": 151, \"PRODUCTCODE\": \"S12_3148\", \"CUSTOMERNAME\": \"Vitachrome Inc.\", \"PHONE\": \"2125551500\", \"ADDRESSLINE1\": \"2678 Kingston Rd.\", \"ADDRESSLINE2\": \"Suite 101\", \"CITY\": \"NYC\", \"STATE\": \"NY\", \"POSTALCODE\": \"10022\", \"COUNTRY\": \"USA\", \"TERRITORY\": NaN, \"CONTACTLASTNAME\": \"Frick\", \"CONTACTFIRSTNAME\": \"Michael\", \"DEALSIZE\": \"Small\"}]}'"
      ]
     },
     "execution_count": 67,
     "metadata": {},
     "output_type": "execute_result"
    }
   ],
   "source": [
    "import pandas as pd\n",
    "import json\n",
    "sales_df = pd.read_csv(\"../data/sales_data_sample.csv\",encoding='Latin-1')\n",
    "records = sales_df.sample(10)\n",
    "tenant = \"tenant1\"\n",
    "json.dumps({\"tenant\":tenant, \"data\":records.to_dict(orient=\"records\")})"
   ]
  }
 ],
 "metadata": {
  "kernelspec": {
   "display_name": "Python 3.8.5 ('dlresearch')",
   "language": "python",
   "name": "python3"
  },
  "language_info": {
   "codemirror_mode": {
    "name": "ipython",
    "version": 3
   },
   "file_extension": ".py",
   "mimetype": "text/x-python",
   "name": "python",
   "nbconvert_exporter": "python",
   "pygments_lexer": "ipython3",
   "version": "3.8.5"
  },
  "orig_nbformat": 4,
  "vscode": {
   "interpreter": {
    "hash": "8858a4df92b06e9052bc306608e3218c33233584bc6448961c72d65ba55843de"
   }
  }
 },
 "nbformat": 4,
 "nbformat_minor": 2
}
